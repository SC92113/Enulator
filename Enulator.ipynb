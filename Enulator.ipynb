{
 "cells": [
  {
   "cell_type": "markdown",
   "metadata": {},
   "source": [
    "## Product - Enulator"
   ]
  },
  {
   "cell_type": "markdown",
   "metadata": {},
   "source": [
    "### Overview"
   ]
  },
  {
   "cell_type": "markdown",
   "metadata": {},
   "source": [
    "At Ampd Energy, we developed and launched the Enulator platform, taking it from the MVP stage to a full release with the help of our design and engineering teams. The main goal of Enulator was to create a smooth pre-sales management tool that handled everything from inputting data to generating customized sales proposals, so that sales officers and distributors can convince potential customers to buy or rent our battery energy storage system (BESS) called Enertainer through the proposals. We wanted to solve several user problems, like the need for separate cost and carbon saving calculation, proposal styling, flexible customization in proposal PDF, and offering both Presentation and Condensed versions of proposals. It also aimed to improve the efficiency of managing proposal data, configuration, and user access. Initially, we launched the MVP internally for sales officers and gathered their feedback to refine and enhance the tool for its full release."
   ]
  },
  {
   "cell_type": "markdown",
   "metadata": {},
   "source": [
    "### My Role and Contributions"
   ]
  },
  {
   "cell_type": "markdown",
   "metadata": {},
   "source": [
    "In this project, my role was pretty diverse, covering product definition, user research, and product management. I defined the product's features and functionalities to ensure they met the needs of our target users. Through user research and feedback collection, I understood the pain points our users faced and the spreadsheet tools they were currently using. I managed the entire product lifecycle from ideation to launch using Agile methodologies to ensure we stayed on track and delivered effectively. To keep everything organized, I used Jira and Confluence for managing sprints and documentation. I also used Google Analytics to track and analyze the product's performance, making data-driven decisions to continually improve the platform."
   ]
  },
  {
   "cell_type": "markdown",
   "metadata": {},
   "source": [
    "### Outcomes and Impact"
   ]
  },
  {
   "cell_type": "markdown",
   "metadata": {},
   "source": [
    "The Enulator made a big difference in how efficient and productive our global sales team became. By creating a scalable tool, we cut each sales officer’s workload by **15%**. The tool also made things much faster, allowing sales officers to create proposals in just **5 to 7 minutes**, which was a **95%** increase in efficiency. This efficiency boost led to an increase in the number of weekly proposals created per user, **from 3 to 7** within the first month of the tool’s launch. Plus, the global sales team was very happy with the tool, they gave a satisfaction score of **8.5 out of 10** in a post-launch survey. These results show how much Enulator improved both operational efficiency and user satisfaction."
   ]
  },
  {
   "cell_type": "markdown",
   "metadata": {},
   "source": [
    "### Product"
   ]
  },
  {
   "cell_type": "markdown",
   "metadata": {},
   "source": [
    "<img src=\"Enulator_01.png\" width=\"1000\" height=\"506\">"
   ]
  },
  {
   "cell_type": "markdown",
   "metadata": {},
   "source": [
    "<img src=\"Enulator_02.png\" width=\"1000\" height=\"506\">"
   ]
  },
  {
   "cell_type": "markdown",
   "metadata": {},
   "source": [
    "<img src=\"Enulator_03.png\" width=\"1000\" height=\"506\">"
   ]
  },
  {
   "cell_type": "markdown",
   "metadata": {},
   "source": [
    "<img src=\"Enulator_04.png\" width=\"1000\" height=\"506\">"
   ]
  },
  {
   "cell_type": "markdown",
   "metadata": {},
   "source": [
    "<img src=\"Enulator_05.png\" width=\"1000\" height=\"506\">"
   ]
  },
  {
   "cell_type": "markdown",
   "metadata": {},
   "source": [
    "<img src=\"Enulator_06.png\" width=\"1000\" height=\"506\">"
   ]
  },
  {
   "cell_type": "markdown",
   "metadata": {},
   "source": [
    "<img src=\"Enulator_07.png\" width=\"1000\" height=\"506\">"
   ]
  },
  {
   "cell_type": "markdown",
   "metadata": {},
   "source": [
    "<img src=\"Enulator_08.png\" width=\"1000\" height=\"506\">"
   ]
  },
  {
   "cell_type": "markdown",
   "metadata": {},
   "source": [
    "<img src=\"Enulator_09.png\" width=\"1000\" height=\"506\">"
   ]
  },
  {
   "cell_type": "markdown",
   "metadata": {},
   "source": [
    "<img src=\"Enulator_10.png\" width=\"1000\" height=\"506\">"
   ]
  },
  {
   "cell_type": "markdown",
   "metadata": {},
   "source": [
    "### Demo"
   ]
  },
  {
   "cell_type": "markdown",
   "metadata": {},
   "source": [
    "<video controls src=\"Enulator_11.mp4\" title=\"Demo\" width=1000, height=506></video>"
   ]
  }
 ],
 "metadata": {
  "kernelspec": {
   "display_name": "Python 3",
   "language": "python",
   "name": "python3"
  },
  "language_info": {
   "codemirror_mode": {
    "name": "ipython",
    "version": 3
   },
   "file_extension": ".py",
   "mimetype": "text/x-python",
   "name": "python",
   "nbconvert_exporter": "python",
   "pygments_lexer": "ipython3",
   "version": "3.7.3"
  }
 },
 "nbformat": 4,
 "nbformat_minor": 2
}
